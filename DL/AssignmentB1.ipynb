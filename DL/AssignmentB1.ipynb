{
 "cells": [
  {
   "cell_type": "markdown",
   "id": "462a1db9",
   "metadata": {},
   "source": [
    "# Assignment 1 \n",
    "## Linear regression by using Deep Neural network\n",
    "\n",
    "Implement Boston housing price \n",
    "predictionproblem by Linear regression using Deep Neural network. Use Boston House price prediction dataset.\n"
   ]
  },
  {
   "cell_type": "markdown",
   "id": "f803eb12",
   "metadata": {},
   "source": [
    "### Importing and cleaning dataset"
   ]
  },
  {
   "cell_type": "code",
   "execution_count": 1,
   "id": "d6aaab2b",
   "metadata": {},
   "outputs": [],
   "source": [
    "import tensorflow as tf\n",
    "from tensorflow.keras.datasets import boston_housing\n",
    "from sklearn import preprocessing"
   ]
  },
  {
   "cell_type": "code",
   "execution_count": 2,
   "id": "3428e367",
   "metadata": {},
   "outputs": [],
   "source": [
    "(x_train, y_train), (x_test, y_test) = boston_housing.load_data()"
   ]
  },
  {
   "cell_type": "code",
   "execution_count": 3,
   "id": "23b093f7",
   "metadata": {},
   "outputs": [
    {
     "name": "stdout",
     "output_type": "stream",
     "text": [
      "x_train Shape: (404, 13)\n",
      "y_train Shape: (404,)\n",
      "x_test Shape: (102, 13)\n",
      "y_test Shape: (102,)\n"
     ]
    }
   ],
   "source": [
    "print(\"x_train Shape:\",x_train.shape)\n",
    "print(\"y_train Shape:\",y_train.shape)\n",
    "print(\"x_test Shape:\",x_test.shape)\n",
    "print(\"y_test Shape:\",y_test.shape)"
   ]
  },
  {
   "cell_type": "code",
   "execution_count": 4,
   "id": "ec76278c",
   "metadata": {},
   "outputs": [
    {
     "data": {
      "text/plain": [
       "array([  1.23247,   0.     ,   8.14   ,   0.     ,   0.538  ,   6.142  ,\n",
       "        91.7    ,   3.9769 ,   4.     , 307.     ,  21.     , 396.9    ,\n",
       "        18.72   ])"
      ]
     },
     "execution_count": 4,
     "metadata": {},
     "output_type": "execute_result"
    }
   ],
   "source": [
    "x_train[0]"
   ]
  },
  {
   "cell_type": "code",
   "execution_count": 5,
   "id": "62186d71",
   "metadata": {},
   "outputs": [
    {
     "data": {
      "text/plain": [
       "15.2"
      ]
     },
     "execution_count": 5,
     "metadata": {},
     "output_type": "execute_result"
    }
   ],
   "source": [
    "y_train[0]"
   ]
  },
  {
   "cell_type": "code",
   "execution_count": 6,
   "id": "f78040b0",
   "metadata": {},
   "outputs": [],
   "source": [
    "x_train = preprocessing.normalize(x_train)\n",
    "x_test = preprocessing.normalize(x_test)"
   ]
  },
  {
   "cell_type": "code",
   "execution_count": 7,
   "id": "6667c75f",
   "metadata": {},
   "outputs": [
    {
     "data": {
      "text/plain": [
       "array([0.0024119 , 0.        , 0.01592969, 0.        , 0.00105285,\n",
       "       0.01201967, 0.17945359, 0.00778265, 0.00782786, 0.6007879 ,\n",
       "       0.04109624, 0.77671895, 0.03663436])"
      ]
     },
     "execution_count": 7,
     "metadata": {},
     "output_type": "execute_result"
    }
   ],
   "source": [
    "x_train[0]"
   ]
  },
  {
   "cell_type": "markdown",
   "id": "4a2e586f",
   "metadata": {},
   "source": [
    "### Building linear regression model"
   ]
  },
  {
   "cell_type": "code",
   "execution_count": 3,
   "id": "5a305d8c",
   "metadata": {},
   "outputs": [],
   "source": [
    "from tensorflow.keras.models import Sequential\n",
    "from tensorflow.keras.layers import *"
   ]
  },
  {
   "cell_type": "code",
   "execution_count": 2,
   "id": "0ee5df2d",
   "metadata": {},
   "outputs": [
    {
     "ename": "NameError",
     "evalue": "name 'Sequential' is not defined",
     "output_type": "error",
     "traceback": [
      "\u001b[1;31m---------------------------------------------------------------------------\u001b[0m",
      "\u001b[1;31mNameError\u001b[0m                                 Traceback (most recent call last)",
      "Cell \u001b[1;32mIn[2], line 1\u001b[0m\n\u001b[1;32m----> 1\u001b[0m model \u001b[38;5;241m=\u001b[39m \u001b[43mSequential\u001b[49m()\n\u001b[0;32m      2\u001b[0m model\u001b[38;5;241m.\u001b[39madd(Dense(\u001b[38;5;241m128\u001b[39m,activation\u001b[38;5;241m=\u001b[39m\u001b[38;5;124m'\u001b[39m\u001b[38;5;124mlinear\u001b[39m\u001b[38;5;124m'\u001b[39m,input_shape\u001b[38;5;241m=\u001b[39m(x_train\u001b[38;5;241m.\u001b[39mshape[\u001b[38;5;241m1\u001b[39m])))\n\u001b[0;32m      3\u001b[0m model\u001b[38;5;241m.\u001b[39madd(Dense(\u001b[38;5;241m64\u001b[39m,activation\u001b[38;5;241m=\u001b[39m\u001b[38;5;124m'\u001b[39m\u001b[38;5;124mlinear\u001b[39m\u001b[38;5;124m'\u001b[39m))\n",
      "\u001b[1;31mNameError\u001b[0m: name 'Sequential' is not defined"
     ]
    }
   ],
   "source": [
    "model = Sequential()\n",
    "model.add(Dense(128,activation='linear',input_shape=(x_train.shape[1])))\n",
    "model.add(Dense(64,activation='linear'))\n",
    "model.add(Dense(32,activation='linear'))\n",
    "model.add(Dense(1))\n",
    "model.compile(optimizer='rmsprop',loss='mse',metrics=['mae','mse'])\n",
    "model.summary()"
   ]
  },
  {
   "cell_type": "code",
   "execution_count": 11,
   "id": "f2a008c5",
   "metadata": {},
   "outputs": [
    {
     "name": "stdout",
     "output_type": "stream",
     "text": [
      "Epoch 1/100\n",
      "\u001b[1m13/13\u001b[0m \u001b[32m━━━━━━━━━━━━━━━━━━━━\u001b[0m\u001b[37m\u001b[0m \u001b[1m1s\u001b[0m 18ms/step - loss: 545.9626 - mae: 21.7351 - mse: 545.9626 - val_loss: 548.2624 - val_mae: 21.5529 - val_mse: 548.2624\n",
      "Epoch 2/100\n",
      "\u001b[1m13/13\u001b[0m \u001b[32m━━━━━━━━━━━━━━━━━━━━\u001b[0m\u001b[37m\u001b[0m \u001b[1m0s\u001b[0m 4ms/step - loss: 513.4466 - mae: 20.3934 - mse: 513.4466 - val_loss: 435.1711 - val_mae: 18.7514 - val_mse: 435.1711\n",
      "Epoch 3/100\n",
      "\u001b[1m13/13\u001b[0m \u001b[32m━━━━━━━━━━━━━━━━━━━━\u001b[0m\u001b[37m\u001b[0m \u001b[1m0s\u001b[0m 5ms/step - loss: 381.6998 - mae: 17.2474 - mse: 381.6998 - val_loss: 281.1151 - val_mae: 14.2863 - val_mse: 281.1151\n",
      "Epoch 4/100\n",
      "\u001b[1m13/13\u001b[0m \u001b[32m━━━━━━━━━━━━━━━━━━━━\u001b[0m\u001b[37m\u001b[0m \u001b[1m0s\u001b[0m 4ms/step - loss: 242.5207 - mae: 12.7234 - mse: 242.5207 - val_loss: 150.9627 - val_mae: 9.6506 - val_mse: 150.9627\n",
      "Epoch 5/100\n",
      "\u001b[1m13/13\u001b[0m \u001b[32m━━━━━━━━━━━━━━━━━━━━\u001b[0m\u001b[37m\u001b[0m \u001b[1m0s\u001b[0m 5ms/step - loss: 110.2155 - mae: 7.4532 - mse: 110.2155 - val_loss: 86.7562 - val_mae: 6.5535 - val_mse: 86.7562\n",
      "Epoch 6/100\n",
      "\u001b[1m13/13\u001b[0m \u001b[32m━━━━━━━━━━━━━━━━━━━━\u001b[0m\u001b[37m\u001b[0m \u001b[1m0s\u001b[0m 5ms/step - loss: 93.1866 - mae: 6.7842 - mse: 93.1866 - val_loss: 81.4430 - val_mae: 6.3670 - val_mse: 81.4430\n",
      "Epoch 7/100\n",
      "\u001b[1m13/13\u001b[0m \u001b[32m━━━━━━━━━━━━━━━━━━━━\u001b[0m\u001b[37m\u001b[0m \u001b[1m0s\u001b[0m 5ms/step - loss: 85.4653 - mae: 6.6076 - mse: 85.4653 - val_loss: 76.7463 - val_mae: 6.4012 - val_mse: 76.7463\n",
      "Epoch 8/100\n",
      "\u001b[1m13/13\u001b[0m \u001b[32m━━━━━━━━━━━━━━━━━━━━\u001b[0m\u001b[37m\u001b[0m \u001b[1m0s\u001b[0m 5ms/step - loss: 77.9644 - mae: 6.5916 - mse: 77.9644 - val_loss: 73.8202 - val_mae: 6.2160 - val_mse: 73.8202\n",
      "Epoch 9/100\n",
      "\u001b[1m13/13\u001b[0m \u001b[32m━━━━━━━━━━━━━━━━━━━━\u001b[0m\u001b[37m\u001b[0m \u001b[1m0s\u001b[0m 5ms/step - loss: 83.9197 - mae: 6.6596 - mse: 83.9197 - val_loss: 75.4508 - val_mae: 6.0845 - val_mse: 75.4508\n",
      "Epoch 10/100\n",
      "\u001b[1m13/13\u001b[0m \u001b[32m━━━━━━━━━━━━━━━━━━━━\u001b[0m\u001b[37m\u001b[0m \u001b[1m0s\u001b[0m 5ms/step - loss: 64.2449 - mae: 5.5846 - mse: 64.2449 - val_loss: 69.5999 - val_mae: 6.1509 - val_mse: 69.5999\n",
      "Epoch 11/100\n",
      "\u001b[1m13/13\u001b[0m \u001b[32m━━━━━━━━━━━━━━━━━━━━\u001b[0m\u001b[37m\u001b[0m \u001b[1m0s\u001b[0m 5ms/step - loss: 73.8525 - mae: 6.2043 - mse: 73.8525 - val_loss: 68.4402 - val_mae: 5.8936 - val_mse: 68.4402\n",
      "Epoch 12/100\n",
      "\u001b[1m13/13\u001b[0m \u001b[32m━━━━━━━━━━━━━━━━━━━━\u001b[0m\u001b[37m\u001b[0m \u001b[1m0s\u001b[0m 4ms/step - loss: 64.8167 - mae: 5.6967 - mse: 64.8167 - val_loss: 66.7642 - val_mae: 6.1268 - val_mse: 66.7642\n",
      "Epoch 13/100\n",
      "\u001b[1m13/13\u001b[0m \u001b[32m━━━━━━━━━━━━━━━━━━━━\u001b[0m\u001b[37m\u001b[0m \u001b[1m0s\u001b[0m 5ms/step - loss: 73.2138 - mae: 6.0638 - mse: 73.2138 - val_loss: 66.8193 - val_mae: 5.8035 - val_mse: 66.8193\n",
      "Epoch 14/100\n",
      "\u001b[1m13/13\u001b[0m \u001b[32m━━━━━━━━━━━━━━━━━━━━\u001b[0m\u001b[37m\u001b[0m \u001b[1m0s\u001b[0m 5ms/step - loss: 57.4024 - mae: 5.2450 - mse: 57.4024 - val_loss: 63.8680 - val_mae: 5.9907 - val_mse: 63.8680\n",
      "Epoch 15/100\n",
      "\u001b[1m13/13\u001b[0m \u001b[32m━━━━━━━━━━━━━━━━━━━━\u001b[0m\u001b[37m\u001b[0m \u001b[1m0s\u001b[0m 4ms/step - loss: 68.1674 - mae: 6.0755 - mse: 68.1674 - val_loss: 63.4725 - val_mae: 5.7265 - val_mse: 63.4725\n",
      "Epoch 16/100\n",
      "\u001b[1m13/13\u001b[0m \u001b[32m━━━━━━━━━━━━━━━━━━━━\u001b[0m\u001b[37m\u001b[0m \u001b[1m0s\u001b[0m 4ms/step - loss: 65.4185 - mae: 5.5463 - mse: 65.4185 - val_loss: 61.6390 - val_mae: 5.8716 - val_mse: 61.6390\n",
      "Epoch 17/100\n",
      "\u001b[1m13/13\u001b[0m \u001b[32m━━━━━━━━━━━━━━━━━━━━\u001b[0m\u001b[37m\u001b[0m \u001b[1m0s\u001b[0m 5ms/step - loss: 64.1677 - mae: 5.7425 - mse: 64.1677 - val_loss: 60.1339 - val_mae: 5.6853 - val_mse: 60.1339\n",
      "Epoch 18/100\n",
      "\u001b[1m13/13\u001b[0m \u001b[32m━━━━━━━━━━━━━━━━━━━━\u001b[0m\u001b[37m\u001b[0m \u001b[1m0s\u001b[0m 4ms/step - loss: 65.7854 - mae: 5.5971 - mse: 65.7854 - val_loss: 59.7183 - val_mae: 5.7732 - val_mse: 59.7183\n",
      "Epoch 19/100\n",
      "\u001b[1m13/13\u001b[0m \u001b[32m━━━━━━━━━━━━━━━━━━━━\u001b[0m\u001b[37m\u001b[0m \u001b[1m0s\u001b[0m 5ms/step - loss: 65.5104 - mae: 5.8338 - mse: 65.5104 - val_loss: 59.3620 - val_mae: 5.6277 - val_mse: 59.3620\n",
      "Epoch 20/100\n",
      "\u001b[1m13/13\u001b[0m \u001b[32m━━━━━━━━━━━━━━━━━━━━\u001b[0m\u001b[37m\u001b[0m \u001b[1m0s\u001b[0m 6ms/step - loss: 48.5509 - mae: 4.9882 - mse: 48.5509 - val_loss: 58.1611 - val_mae: 5.6665 - val_mse: 58.1611\n",
      "Epoch 21/100\n",
      "\u001b[1m13/13\u001b[0m \u001b[32m━━━━━━━━━━━━━━━━━━━━\u001b[0m\u001b[37m\u001b[0m \u001b[1m0s\u001b[0m 4ms/step - loss: 56.5248 - mae: 5.2603 - mse: 56.5248 - val_loss: 60.6952 - val_mae: 5.6430 - val_mse: 60.6952\n",
      "Epoch 22/100\n",
      "\u001b[1m13/13\u001b[0m \u001b[32m━━━━━━━━━━━━━━━━━━━━\u001b[0m\u001b[37m\u001b[0m \u001b[1m0s\u001b[0m 4ms/step - loss: 58.4784 - mae: 5.2042 - mse: 58.4784 - val_loss: 59.1403 - val_mae: 5.5982 - val_mse: 59.1403\n",
      "Epoch 23/100\n",
      "\u001b[1m13/13\u001b[0m \u001b[32m━━━━━━━━━━━━━━━━━━━━\u001b[0m\u001b[37m\u001b[0m \u001b[1m0s\u001b[0m 4ms/step - loss: 64.5480 - mae: 5.3866 - mse: 64.5480 - val_loss: 56.9908 - val_mae: 5.5990 - val_mse: 56.9908\n",
      "Epoch 24/100\n",
      "\u001b[1m13/13\u001b[0m \u001b[32m━━━━━━━━━━━━━━━━━━━━\u001b[0m\u001b[37m\u001b[0m \u001b[1m0s\u001b[0m 5ms/step - loss: 58.1221 - mae: 5.3097 - mse: 58.1221 - val_loss: 56.9860 - val_mae: 5.5798 - val_mse: 56.9860\n",
      "Epoch 25/100\n",
      "\u001b[1m13/13\u001b[0m \u001b[32m━━━━━━━━━━━━━━━━━━━━\u001b[0m\u001b[37m\u001b[0m \u001b[1m0s\u001b[0m 5ms/step - loss: 60.3677 - mae: 5.5040 - mse: 60.3677 - val_loss: 58.7029 - val_mae: 5.5799 - val_mse: 58.7029\n",
      "Epoch 26/100\n",
      "\u001b[1m13/13\u001b[0m \u001b[32m━━━━━━━━━━━━━━━━━━━━\u001b[0m\u001b[37m\u001b[0m \u001b[1m0s\u001b[0m 5ms/step - loss: 57.6399 - mae: 5.2274 - mse: 57.6399 - val_loss: 57.4276 - val_mae: 5.5649 - val_mse: 57.4276\n",
      "Epoch 27/100\n",
      "\u001b[1m13/13\u001b[0m \u001b[32m━━━━━━━━━━━━━━━━━━━━\u001b[0m\u001b[37m\u001b[0m \u001b[1m0s\u001b[0m 5ms/step - loss: 53.3201 - mae: 5.1049 - mse: 53.3201 - val_loss: 56.4697 - val_mae: 5.5557 - val_mse: 56.4697\n",
      "Epoch 28/100\n",
      "\u001b[1m13/13\u001b[0m \u001b[32m━━━━━━━━━━━━━━━━━━━━\u001b[0m\u001b[37m\u001b[0m \u001b[1m0s\u001b[0m 5ms/step - loss: 51.1868 - mae: 5.1270 - mse: 51.1868 - val_loss: 55.7199 - val_mae: 5.5824 - val_mse: 55.7199\n",
      "Epoch 29/100\n",
      "\u001b[1m13/13\u001b[0m \u001b[32m━━━━━━━━━━━━━━━━━━━━\u001b[0m\u001b[37m\u001b[0m \u001b[1m0s\u001b[0m 4ms/step - loss: 56.5432 - mae: 5.2877 - mse: 56.5432 - val_loss: 56.7291 - val_mae: 5.5387 - val_mse: 56.7291\n",
      "Epoch 30/100\n",
      "\u001b[1m13/13\u001b[0m \u001b[32m━━━━━━━━━━━━━━━━━━━━\u001b[0m\u001b[37m\u001b[0m \u001b[1m0s\u001b[0m 5ms/step - loss: 68.6390 - mae: 5.6736 - mse: 68.6390 - val_loss: 55.7416 - val_mae: 5.5293 - val_mse: 55.7416\n",
      "Epoch 31/100\n",
      "\u001b[1m13/13\u001b[0m \u001b[32m━━━━━━━━━━━━━━━━━━━━\u001b[0m\u001b[37m\u001b[0m \u001b[1m0s\u001b[0m 5ms/step - loss: 53.2884 - mae: 5.2494 - mse: 53.2884 - val_loss: 55.9206 - val_mae: 5.5221 - val_mse: 55.9206\n",
      "Epoch 32/100\n",
      "\u001b[1m13/13\u001b[0m \u001b[32m━━━━━━━━━━━━━━━━━━━━\u001b[0m\u001b[37m\u001b[0m \u001b[1m0s\u001b[0m 5ms/step - loss: 51.6140 - mae: 5.1227 - mse: 51.6140 - val_loss: 55.0781 - val_mae: 5.5919 - val_mse: 55.0781\n",
      "Epoch 33/100\n",
      "\u001b[1m13/13\u001b[0m \u001b[32m━━━━━━━━━━━━━━━━━━━━\u001b[0m\u001b[37m\u001b[0m \u001b[1m0s\u001b[0m 5ms/step - loss: 49.2798 - mae: 5.0216 - mse: 49.2798 - val_loss: 54.8487 - val_mae: 5.5444 - val_mse: 54.8487\n",
      "Epoch 34/100\n",
      "\u001b[1m13/13\u001b[0m \u001b[32m━━━━━━━━━━━━━━━━━━━━\u001b[0m\u001b[37m\u001b[0m \u001b[1m0s\u001b[0m 5ms/step - loss: 56.7086 - mae: 5.4247 - mse: 56.7086 - val_loss: 59.0448 - val_mae: 5.5536 - val_mse: 59.0448\n",
      "Epoch 35/100\n",
      "\u001b[1m13/13\u001b[0m \u001b[32m━━━━━━━━━━━━━━━━━━━━\u001b[0m\u001b[37m\u001b[0m \u001b[1m0s\u001b[0m 5ms/step - loss: 54.4681 - mae: 5.0473 - mse: 54.4681 - val_loss: 56.0557 - val_mae: 5.7288 - val_mse: 56.0557\n",
      "Epoch 36/100\n",
      "\u001b[1m13/13\u001b[0m \u001b[32m━━━━━━━━━━━━━━━━━━━━\u001b[0m\u001b[37m\u001b[0m \u001b[1m0s\u001b[0m 6ms/step - loss: 52.0854 - mae: 5.2614 - mse: 52.0854 - val_loss: 55.1122 - val_mae: 5.4815 - val_mse: 55.1122\n",
      "Epoch 37/100\n",
      "\u001b[1m13/13\u001b[0m \u001b[32m━━━━━━━━━━━━━━━━━━━━\u001b[0m\u001b[37m\u001b[0m \u001b[1m0s\u001b[0m 5ms/step - loss: 59.9635 - mae: 5.2110 - mse: 59.9635 - val_loss: 54.2353 - val_mae: 5.5091 - val_mse: 54.2353\n",
      "Epoch 38/100\n",
      "\u001b[1m13/13\u001b[0m \u001b[32m━━━━━━━━━━━━━━━━━━━━\u001b[0m\u001b[37m\u001b[0m \u001b[1m0s\u001b[0m 4ms/step - loss: 57.2825 - mae: 5.1916 - mse: 57.2825 - val_loss: 55.9451 - val_mae: 5.4740 - val_mse: 55.9451\n",
      "Epoch 39/100\n",
      "\u001b[1m13/13\u001b[0m \u001b[32m━━━━━━━━━━━━━━━━━━━━\u001b[0m\u001b[37m\u001b[0m \u001b[1m0s\u001b[0m 5ms/step - loss: 52.8811 - mae: 4.9810 - mse: 52.8811 - val_loss: 54.0079 - val_mae: 5.4854 - val_mse: 54.0079\n",
      "Epoch 40/100\n",
      "\u001b[1m13/13\u001b[0m \u001b[32m━━━━━━━━━━━━━━━━━━━━\u001b[0m\u001b[37m\u001b[0m \u001b[1m0s\u001b[0m 6ms/step - loss: 54.5157 - mae: 5.1081 - mse: 54.5157 - val_loss: 54.6091 - val_mae: 5.6194 - val_mse: 54.6091\n",
      "Epoch 41/100\n",
      "\u001b[1m13/13\u001b[0m \u001b[32m━━━━━━━━━━━━━━━━━━━━\u001b[0m\u001b[37m\u001b[0m \u001b[1m0s\u001b[0m 4ms/step - loss: 60.4213 - mae: 5.5833 - mse: 60.4213 - val_loss: 53.8357 - val_mae: 5.5255 - val_mse: 53.8357\n",
      "Epoch 42/100\n",
      "\u001b[1m13/13\u001b[0m \u001b[32m━━━━━━━━━━━━━━━━━━━━\u001b[0m\u001b[37m\u001b[0m \u001b[1m0s\u001b[0m 4ms/step - loss: 49.1340 - mae: 4.9499 - mse: 49.1340 - val_loss: 53.5766 - val_mae: 5.4643 - val_mse: 53.5766\n",
      "Epoch 43/100\n",
      "\u001b[1m13/13\u001b[0m \u001b[32m━━━━━━━━━━━━━━━━━━━━\u001b[0m\u001b[37m\u001b[0m \u001b[1m0s\u001b[0m 4ms/step - loss: 54.2418 - mae: 5.0033 - mse: 54.2418 - val_loss: 54.1370 - val_mae: 5.5878 - val_mse: 54.1370\n",
      "Epoch 44/100\n",
      "\u001b[1m13/13\u001b[0m \u001b[32m━━━━━━━━━━━━━━━━━━━━\u001b[0m\u001b[37m\u001b[0m \u001b[1m0s\u001b[0m 4ms/step - loss: 49.0765 - mae: 5.0363 - mse: 49.0765 - val_loss: 53.6233 - val_mae: 5.5304 - val_mse: 53.6233\n",
      "Epoch 45/100\n",
      "\u001b[1m13/13\u001b[0m \u001b[32m━━━━━━━━━━━━━━━━━━━━\u001b[0m\u001b[37m\u001b[0m \u001b[1m0s\u001b[0m 4ms/step - loss: 64.6158 - mae: 5.4745 - mse: 64.6158 - val_loss: 53.1893 - val_mae: 5.4551 - val_mse: 53.1893\n",
      "Epoch 46/100\n",
      "\u001b[1m13/13\u001b[0m \u001b[32m━━━━━━━━━━━━━━━━━━━━\u001b[0m\u001b[37m\u001b[0m \u001b[1m0s\u001b[0m 4ms/step - loss: 49.1560 - mae: 4.8681 - mse: 49.1560 - val_loss: 56.1320 - val_mae: 5.4262 - val_mse: 56.1320\n",
      "Epoch 47/100\n",
      "\u001b[1m13/13\u001b[0m \u001b[32m━━━━━━━━━━━━━━━━━━━━\u001b[0m\u001b[37m\u001b[0m \u001b[1m0s\u001b[0m 5ms/step - loss: 45.1462 - mae: 4.3651 - mse: 45.1462 - val_loss: 54.7815 - val_mae: 5.3955 - val_mse: 54.7815\n",
      "Epoch 48/100\n",
      "\u001b[1m13/13\u001b[0m \u001b[32m━━━━━━━━━━━━━━━━━━━━\u001b[0m\u001b[37m\u001b[0m \u001b[1m0s\u001b[0m 4ms/step - loss: 57.7084 - mae: 4.9296 - mse: 57.7084 - val_loss: 52.7141 - val_mae: 5.4149 - val_mse: 52.7141\n",
      "Epoch 49/100\n",
      "\u001b[1m13/13\u001b[0m \u001b[32m━━━━━━━━━━━━━━━━━━━━\u001b[0m\u001b[37m\u001b[0m \u001b[1m0s\u001b[0m 4ms/step - loss: 50.2976 - mae: 4.8756 - mse: 50.2976 - val_loss: 54.7055 - val_mae: 5.3747 - val_mse: 54.7055\n",
      "Epoch 50/100\n",
      "\u001b[1m13/13\u001b[0m \u001b[32m━━━━━━━━━━━━━━━━━━━━\u001b[0m\u001b[37m\u001b[0m \u001b[1m0s\u001b[0m 5ms/step - loss: 50.4996 - mae: 4.8935 - mse: 50.4996 - val_loss: 52.6094 - val_mae: 5.3695 - val_mse: 52.6094\n",
      "Epoch 51/100\n",
      "\u001b[1m13/13\u001b[0m \u001b[32m━━━━━━━━━━━━━━━━━━━━\u001b[0m\u001b[37m\u001b[0m \u001b[1m0s\u001b[0m 4ms/step - loss: 52.7244 - mae: 4.9880 - mse: 52.7244 - val_loss: 53.0270 - val_mae: 5.3421 - val_mse: 53.0270\n",
      "Epoch 52/100\n",
      "\u001b[1m13/13\u001b[0m \u001b[32m━━━━━━━━━━━━━━━━━━━━\u001b[0m\u001b[37m\u001b[0m \u001b[1m0s\u001b[0m 4ms/step - loss: 54.3989 - mae: 4.9254 - mse: 54.3989 - val_loss: 52.1394 - val_mae: 5.3708 - val_mse: 52.1394\n",
      "Epoch 53/100\n",
      "\u001b[1m13/13\u001b[0m \u001b[32m━━━━━━━━━━━━━━━━━━━━\u001b[0m\u001b[37m\u001b[0m \u001b[1m0s\u001b[0m 5ms/step - loss: 56.1252 - mae: 5.2129 - mse: 56.1252 - val_loss: 53.2124 - val_mae: 5.3113 - val_mse: 53.2124\n",
      "Epoch 54/100\n",
      "\u001b[1m13/13\u001b[0m \u001b[32m━━━━━━━━━━━━━━━━━━━━\u001b[0m\u001b[37m\u001b[0m \u001b[1m0s\u001b[0m 5ms/step - loss: 53.8954 - mae: 5.0495 - mse: 53.8954 - val_loss: 52.5431 - val_mae: 5.3038 - val_mse: 52.5431\n",
      "Epoch 55/100\n",
      "\u001b[1m13/13\u001b[0m \u001b[32m━━━━━━━━━━━━━━━━━━━━\u001b[0m\u001b[37m\u001b[0m \u001b[1m0s\u001b[0m 4ms/step - loss: 53.9469 - mae: 4.9172 - mse: 53.9469 - val_loss: 51.7711 - val_mae: 5.3021 - val_mse: 51.7711\n",
      "Epoch 56/100\n",
      "\u001b[1m13/13\u001b[0m \u001b[32m━━━━━━━━━━━━━━━━━━━━\u001b[0m\u001b[37m\u001b[0m \u001b[1m0s\u001b[0m 4ms/step - loss: 44.5047 - mae: 4.6172 - mse: 44.5047 - val_loss: 53.3713 - val_mae: 5.5660 - val_mse: 53.3713\n",
      "Epoch 57/100\n",
      "\u001b[1m13/13\u001b[0m \u001b[32m━━━━━━━━━━━━━━━━━━━━\u001b[0m\u001b[37m\u001b[0m \u001b[1m0s\u001b[0m 4ms/step - loss: 64.9407 - mae: 5.5082 - mse: 64.9407 - val_loss: 51.6120 - val_mae: 5.3867 - val_mse: 51.6120\n",
      "Epoch 58/100\n",
      "\u001b[1m13/13\u001b[0m \u001b[32m━━━━━━━━━━━━━━━━━━━━\u001b[0m\u001b[37m\u001b[0m \u001b[1m0s\u001b[0m 4ms/step - loss: 56.9110 - mae: 5.2422 - mse: 56.9110 - val_loss: 51.0275 - val_mae: 5.2711 - val_mse: 51.0275\n",
      "Epoch 59/100\n",
      "\u001b[1m13/13\u001b[0m \u001b[32m━━━━━━━━━━━━━━━━━━━━\u001b[0m\u001b[37m\u001b[0m \u001b[1m0s\u001b[0m 4ms/step - loss: 54.8795 - mae: 4.9430 - mse: 54.8795 - val_loss: 51.0969 - val_mae: 5.3380 - val_mse: 51.0969\n",
      "Epoch 60/100\n",
      "\u001b[1m13/13\u001b[0m \u001b[32m━━━━━━━━━━━━━━━━━━━━\u001b[0m\u001b[37m\u001b[0m \u001b[1m0s\u001b[0m 4ms/step - loss: 49.3712 - mae: 4.9470 - mse: 49.3712 - val_loss: 51.2230 - val_mae: 5.3720 - val_mse: 51.2230\n",
      "Epoch 61/100\n",
      "\u001b[1m13/13\u001b[0m \u001b[32m━━━━━━━━━━━━━━━━━━━━\u001b[0m\u001b[37m\u001b[0m \u001b[1m0s\u001b[0m 4ms/step - loss: 48.2090 - mae: 4.9349 - mse: 48.2090 - val_loss: 50.5618 - val_mae: 5.2122 - val_mse: 50.5618\n",
      "Epoch 62/100\n",
      "\u001b[1m13/13\u001b[0m \u001b[32m━━━━━━━━━━━━━━━━━━━━\u001b[0m\u001b[37m\u001b[0m \u001b[1m0s\u001b[0m 4ms/step - loss: 44.6333 - mae: 4.4611 - mse: 44.6333 - val_loss: 50.2058 - val_mae: 5.2083 - val_mse: 50.2058\n",
      "Epoch 63/100\n",
      "\u001b[1m13/13\u001b[0m \u001b[32m━━━━━━━━━━━━━━━━━━━━\u001b[0m\u001b[37m\u001b[0m \u001b[1m0s\u001b[0m 3ms/step - loss: 53.8640 - mae: 4.9145 - mse: 53.8640 - val_loss: 50.8001 - val_mae: 5.1667 - val_mse: 50.8001\n",
      "Epoch 64/100\n",
      "\u001b[1m13/13\u001b[0m \u001b[32m━━━━━━━━━━━━━━━━━━━━\u001b[0m\u001b[37m\u001b[0m \u001b[1m0s\u001b[0m 4ms/step - loss: 56.4116 - mae: 5.0311 - mse: 56.4116 - val_loss: 50.8469 - val_mae: 5.1499 - val_mse: 50.8469\n",
      "Epoch 65/100\n",
      "\u001b[1m13/13\u001b[0m \u001b[32m━━━━━━━━━━━━━━━━━━━━\u001b[0m\u001b[37m\u001b[0m \u001b[1m0s\u001b[0m 5ms/step - loss: 52.8126 - mae: 4.8208 - mse: 52.8126 - val_loss: 50.9410 - val_mae: 5.1343 - val_mse: 50.9410\n",
      "Epoch 66/100\n",
      "\u001b[1m13/13\u001b[0m \u001b[32m━━━━━━━━━━━━━━━━━━━━\u001b[0m\u001b[37m\u001b[0m \u001b[1m0s\u001b[0m 4ms/step - loss: 47.0894 - mae: 4.5172 - mse: 47.0894 - val_loss: 52.4497 - val_mae: 5.1648 - val_mse: 52.4497\n",
      "Epoch 67/100\n",
      "\u001b[1m13/13\u001b[0m \u001b[32m━━━━━━━━━━━━━━━━━━━━\u001b[0m\u001b[37m\u001b[0m \u001b[1m0s\u001b[0m 4ms/step - loss: 52.1562 - mae: 4.5831 - mse: 52.1562 - val_loss: 48.9827 - val_mae: 5.1383 - val_mse: 48.9827\n",
      "Epoch 68/100\n",
      "\u001b[1m13/13\u001b[0m \u001b[32m━━━━━━━━━━━━━━━━━━━━\u001b[0m\u001b[37m\u001b[0m \u001b[1m0s\u001b[0m 4ms/step - loss: 53.3314 - mae: 4.8308 - mse: 53.3314 - val_loss: 48.7354 - val_mae: 5.1214 - val_mse: 48.7354\n",
      "Epoch 69/100\n",
      "\u001b[1m13/13\u001b[0m \u001b[32m━━━━━━━━━━━━━━━━━━━━\u001b[0m\u001b[37m\u001b[0m \u001b[1m0s\u001b[0m 4ms/step - loss: 51.5136 - mae: 4.8897 - mse: 51.5136 - val_loss: 48.8139 - val_mae: 5.0800 - val_mse: 48.8139\n",
      "Epoch 70/100\n",
      "\u001b[1m13/13\u001b[0m \u001b[32m━━━━━━━━━━━━━━━━━━━━\u001b[0m\u001b[37m\u001b[0m \u001b[1m0s\u001b[0m 4ms/step - loss: 49.6103 - mae: 4.5745 - mse: 49.6103 - val_loss: 50.1321 - val_mae: 5.0611 - val_mse: 50.1321\n",
      "Epoch 71/100\n",
      "\u001b[1m13/13\u001b[0m \u001b[32m━━━━━━━━━━━━━━━━━━━━\u001b[0m\u001b[37m\u001b[0m \u001b[1m0s\u001b[0m 5ms/step - loss: 46.9246 - mae: 4.4811 - mse: 46.9246 - val_loss: 50.3029 - val_mae: 5.0525 - val_mse: 50.3029\n",
      "Epoch 72/100\n",
      "\u001b[1m13/13\u001b[0m \u001b[32m━━━━━━━━━━━━━━━━━━━━\u001b[0m\u001b[37m\u001b[0m \u001b[1m0s\u001b[0m 4ms/step - loss: 50.2254 - mae: 4.6496 - mse: 50.2254 - val_loss: 48.5769 - val_mae: 5.0147 - val_mse: 48.5769\n",
      "Epoch 73/100\n",
      "\u001b[1m13/13\u001b[0m \u001b[32m━━━━━━━━━━━━━━━━━━━━\u001b[0m\u001b[37m\u001b[0m \u001b[1m0s\u001b[0m 4ms/step - loss: 44.4572 - mae: 4.3844 - mse: 44.4572 - val_loss: 49.5487 - val_mae: 5.0106 - val_mse: 49.5487\n",
      "Epoch 74/100\n",
      "\u001b[1m13/13\u001b[0m \u001b[32m━━━━━━━━━━━━━━━━━━━━\u001b[0m\u001b[37m\u001b[0m \u001b[1m0s\u001b[0m 4ms/step - loss: 39.7545 - mae: 4.1118 - mse: 39.7545 - val_loss: 48.5191 - val_mae: 5.2351 - val_mse: 48.5191\n",
      "Epoch 75/100\n",
      "\u001b[1m13/13\u001b[0m \u001b[32m━━━━━━━━━━━━━━━━━━━━\u001b[0m\u001b[37m\u001b[0m \u001b[1m0s\u001b[0m 4ms/step - loss: 45.1799 - mae: 4.6072 - mse: 45.1799 - val_loss: 46.9793 - val_mae: 5.0073 - val_mse: 46.9793\n",
      "Epoch 76/100\n",
      "\u001b[1m13/13\u001b[0m \u001b[32m━━━━━━━━━━━━━━━━━━━━\u001b[0m\u001b[37m\u001b[0m \u001b[1m0s\u001b[0m 4ms/step - loss: 56.3904 - mae: 5.1855 - mse: 56.3904 - val_loss: 46.9691 - val_mae: 5.0609 - val_mse: 46.9691\n",
      "Epoch 77/100\n",
      "\u001b[1m13/13\u001b[0m \u001b[32m━━━━━━━━━━━━━━━━━━━━\u001b[0m\u001b[37m\u001b[0m \u001b[1m0s\u001b[0m 4ms/step - loss: 37.9203 - mae: 4.3188 - mse: 37.9203 - val_loss: 47.1159 - val_mae: 5.1114 - val_mse: 47.1159\n",
      "Epoch 78/100\n",
      "\u001b[1m13/13\u001b[0m \u001b[32m━━━━━━━━━━━━━━━━━━━━\u001b[0m\u001b[37m\u001b[0m \u001b[1m0s\u001b[0m 4ms/step - loss: 47.7999 - mae: 4.8517 - mse: 47.7999 - val_loss: 46.8520 - val_mae: 4.8927 - val_mse: 46.8520\n",
      "Epoch 79/100\n",
      "\u001b[1m13/13\u001b[0m \u001b[32m━━━━━━━━━━━━━━━━━━━━\u001b[0m\u001b[37m\u001b[0m \u001b[1m0s\u001b[0m 4ms/step - loss: 52.2668 - mae: 4.6778 - mse: 52.2668 - val_loss: 46.2890 - val_mae: 4.8711 - val_mse: 46.2890\n",
      "Epoch 80/100\n",
      "\u001b[1m13/13\u001b[0m \u001b[32m━━━━━━━━━━━━━━━━━━━━\u001b[0m\u001b[37m\u001b[0m \u001b[1m0s\u001b[0m 4ms/step - loss: 46.0877 - mae: 4.5865 - mse: 46.0877 - val_loss: 45.4940 - val_mae: 4.9077 - val_mse: 45.4940\n",
      "Epoch 81/100\n",
      "\u001b[1m13/13\u001b[0m \u001b[32m━━━━━━━━━━━━━━━━━━━━\u001b[0m\u001b[37m\u001b[0m \u001b[1m0s\u001b[0m 4ms/step - loss: 38.9699 - mae: 4.2403 - mse: 38.9699 - val_loss: 45.3708 - val_mae: 4.9457 - val_mse: 45.3708\n",
      "Epoch 82/100\n",
      "\u001b[1m13/13\u001b[0m \u001b[32m━━━━━━━━━━━━━━━━━━━━\u001b[0m\u001b[37m\u001b[0m \u001b[1m0s\u001b[0m 4ms/step - loss: 41.8983 - mae: 4.4062 - mse: 41.8983 - val_loss: 44.8408 - val_mae: 4.8135 - val_mse: 44.8408\n",
      "Epoch 83/100\n",
      "\u001b[1m13/13\u001b[0m \u001b[32m━━━━━━━━━━━━━━━━━━━━\u001b[0m\u001b[37m\u001b[0m \u001b[1m0s\u001b[0m 4ms/step - loss: 48.7334 - mae: 4.6203 - mse: 48.7334 - val_loss: 45.7045 - val_mae: 4.7874 - val_mse: 45.7045\n",
      "Epoch 84/100\n",
      "\u001b[1m13/13\u001b[0m \u001b[32m━━━━━━━━━━━━━━━━━━━━\u001b[0m\u001b[37m\u001b[0m \u001b[1m0s\u001b[0m 5ms/step - loss: 37.0928 - mae: 4.0265 - mse: 37.0928 - val_loss: 45.0419 - val_mae: 4.7522 - val_mse: 45.0419\n",
      "Epoch 85/100\n",
      "\u001b[1m13/13\u001b[0m \u001b[32m━━━━━━━━━━━━━━━━━━━━\u001b[0m\u001b[37m\u001b[0m \u001b[1m0s\u001b[0m 4ms/step - loss: 36.4957 - mae: 4.0655 - mse: 36.4957 - val_loss: 46.2352 - val_mae: 4.7855 - val_mse: 46.2352\n",
      "Epoch 86/100\n",
      "\u001b[1m13/13\u001b[0m \u001b[32m━━━━━━━━━━━━━━━━━━━━\u001b[0m\u001b[37m\u001b[0m \u001b[1m0s\u001b[0m 4ms/step - loss: 51.7376 - mae: 4.7208 - mse: 51.7376 - val_loss: 47.7009 - val_mae: 4.8502 - val_mse: 47.7009\n",
      "Epoch 87/100\n",
      "\u001b[1m13/13\u001b[0m \u001b[32m━━━━━━━━━━━━━━━━━━━━\u001b[0m\u001b[37m\u001b[0m \u001b[1m0s\u001b[0m 5ms/step - loss: 46.3649 - mae: 4.5789 - mse: 46.3649 - val_loss: 43.1528 - val_mae: 4.7951 - val_mse: 43.1528\n",
      "Epoch 88/100\n",
      "\u001b[1m13/13\u001b[0m \u001b[32m━━━━━━━━━━━━━━━━━━━━\u001b[0m\u001b[37m\u001b[0m \u001b[1m0s\u001b[0m 4ms/step - loss: 42.4459 - mae: 4.5398 - mse: 42.4459 - val_loss: 44.9702 - val_mae: 4.7063 - val_mse: 44.9702\n",
      "Epoch 89/100\n",
      "\u001b[1m13/13\u001b[0m \u001b[32m━━━━━━━━━━━━━━━━━━━━\u001b[0m\u001b[37m\u001b[0m \u001b[1m0s\u001b[0m 4ms/step - loss: 53.1523 - mae: 4.7275 - mse: 53.1523 - val_loss: 43.3973 - val_mae: 4.6364 - val_mse: 43.3973\n",
      "Epoch 90/100\n",
      "\u001b[1m13/13\u001b[0m \u001b[32m━━━━━━━━━━━━━━━━━━━━\u001b[0m\u001b[37m\u001b[0m \u001b[1m0s\u001b[0m 4ms/step - loss: 38.2720 - mae: 4.0434 - mse: 38.2720 - val_loss: 42.2281 - val_mae: 4.7737 - val_mse: 42.2281\n",
      "Epoch 91/100\n",
      "\u001b[1m13/13\u001b[0m \u001b[32m━━━━━━━━━━━━━━━━━━━━\u001b[0m\u001b[37m\u001b[0m \u001b[1m0s\u001b[0m 4ms/step - loss: 46.8755 - mae: 4.6917 - mse: 46.8755 - val_loss: 42.9062 - val_mae: 4.5877 - val_mse: 42.9062\n",
      "Epoch 92/100\n",
      "\u001b[1m13/13\u001b[0m \u001b[32m━━━━━━━━━━━━━━━━━━━━\u001b[0m\u001b[37m\u001b[0m \u001b[1m0s\u001b[0m 4ms/step - loss: 38.3918 - mae: 4.0945 - mse: 38.3918 - val_loss: 42.6034 - val_mae: 4.5624 - val_mse: 42.6034\n",
      "Epoch 93/100\n",
      "\u001b[1m13/13\u001b[0m \u001b[32m━━━━━━━━━━━━━━━━━━━━\u001b[0m\u001b[37m\u001b[0m \u001b[1m0s\u001b[0m 4ms/step - loss: 42.5100 - mae: 4.2633 - mse: 42.5100 - val_loss: 43.4299 - val_mae: 4.5940 - val_mse: 43.4299\n",
      "Epoch 94/100\n",
      "\u001b[1m13/13\u001b[0m \u001b[32m━━━━━━━━━━━━━━━━━━━━\u001b[0m\u001b[37m\u001b[0m \u001b[1m0s\u001b[0m 4ms/step - loss: 38.0028 - mae: 3.9957 - mse: 38.0028 - val_loss: 40.9471 - val_mae: 4.4718 - val_mse: 40.9471\n",
      "Epoch 95/100\n",
      "\u001b[1m13/13\u001b[0m \u001b[32m━━━━━━━━━━━━━━━━━━━━\u001b[0m\u001b[37m\u001b[0m \u001b[1m0s\u001b[0m 4ms/step - loss: 37.9996 - mae: 4.1532 - mse: 37.9996 - val_loss: 40.2402 - val_mae: 4.6545 - val_mse: 40.2402\n",
      "Epoch 96/100\n",
      "\u001b[1m13/13\u001b[0m \u001b[32m━━━━━━━━━━━━━━━━━━━━\u001b[0m\u001b[37m\u001b[0m \u001b[1m0s\u001b[0m 4ms/step - loss: 41.2407 - mae: 4.3470 - mse: 41.2407 - val_loss: 39.5462 - val_mae: 4.4178 - val_mse: 39.5462\n",
      "Epoch 97/100\n",
      "\u001b[1m13/13\u001b[0m \u001b[32m━━━━━━━━━━━━━━━━━━━━\u001b[0m\u001b[37m\u001b[0m \u001b[1m0s\u001b[0m 4ms/step - loss: 37.5065 - mae: 4.1003 - mse: 37.5065 - val_loss: 39.0014 - val_mae: 4.4115 - val_mse: 39.0014\n",
      "Epoch 98/100\n",
      "\u001b[1m13/13\u001b[0m \u001b[32m━━━━━━━━━━━━━━━━━━━━\u001b[0m\u001b[37m\u001b[0m \u001b[1m0s\u001b[0m 4ms/step - loss: 32.1987 - mae: 3.8679 - mse: 32.1987 - val_loss: 40.0682 - val_mae: 4.7304 - val_mse: 40.0682\n",
      "Epoch 99/100\n",
      "\u001b[1m13/13\u001b[0m \u001b[32m━━━━━━━━━━━━━━━━━━━━\u001b[0m\u001b[37m\u001b[0m \u001b[1m0s\u001b[0m 8ms/step - loss: 37.1309 - mae: 4.2713 - mse: 37.1309 - val_loss: 39.4700 - val_mae: 4.3569 - val_mse: 39.4700\n",
      "Epoch 100/100\n",
      "\u001b[1m13/13\u001b[0m \u001b[32m━━━━━━━━━━━━━━━━━━━━\u001b[0m\u001b[37m\u001b[0m \u001b[1m0s\u001b[0m 4ms/step - loss: 41.9717 - mae: 4.3097 - mse: 41.9717 - val_loss: 37.7574 - val_mae: 4.4546 - val_mse: 37.7574\n"
     ]
    },
    {
     "data": {
      "text/plain": [
       "<keras.src.callbacks.history.History at 0x1edd6c1d450>"
      ]
     },
     "execution_count": 11,
     "metadata": {},
     "output_type": "execute_result"
    }
   ],
   "source": [
    "model.fit(x_train,y_train,epochs=100,verbose=1,validation_data=(x_test,y_test))"
   ]
  },
  {
   "cell_type": "code",
   "execution_count": 12,
   "id": "5181e455",
   "metadata": {},
   "outputs": [
    {
     "name": "stdout",
     "output_type": "stream",
     "text": [
      "\u001b[1m4/4\u001b[0m \u001b[32m━━━━━━━━━━━━━━━━━━━━\u001b[0m\u001b[37m\u001b[0m \u001b[1m0s\u001b[0m 14ms/step\n"
     ]
    },
    {
     "data": {
      "text/plain": [
       "array([[11.621584],\n",
       "       [21.952848],\n",
       "       [26.11494 ],\n",
       "       [25.51095 ],\n",
       "       [27.108555],\n",
       "       [22.320896],\n",
       "       [30.49446 ],\n",
       "       [28.463182],\n",
       "       [20.86166 ],\n",
       "       [20.780361],\n",
       "       [15.941787],\n",
       "       [23.224852],\n",
       "       [19.373297],\n",
       "       [31.395319],\n",
       "       [17.444807],\n",
       "       [25.82437 ],\n",
       "       [24.710318],\n",
       "       [23.171349],\n",
       "       [20.165037],\n",
       "       [21.961842],\n",
       "       [14.722502],\n",
       "       [14.626431],\n",
       "       [24.56413 ],\n",
       "       [21.649939],\n",
       "       [29.644566],\n",
       "       [21.524694],\n",
       "       [26.941185],\n",
       "       [36.789658],\n",
       "       [13.800528],\n",
       "       [25.252851],\n",
       "       [23.395082],\n",
       "       [14.939887],\n",
       "       [32.52132 ],\n",
       "       [24.021835],\n",
       "       [18.896002],\n",
       "       [12.555364],\n",
       "       [17.102182],\n",
       "       [16.961887],\n",
       "       [19.213932],\n",
       "       [33.465866],\n",
       "       [28.7672  ],\n",
       "       [27.10768 ],\n",
       "       [19.140097],\n",
       "       [28.333231],\n",
       "       [31.5645  ],\n",
       "       [25.970642],\n",
       "       [31.386475],\n",
       "       [21.906944],\n",
       "       [22.170362],\n",
       "       [24.89623 ],\n",
       "       [36.321697],\n",
       "       [21.176489],\n",
       "       [16.026735],\n",
       "       [20.217947],\n",
       "       [30.09338 ],\n",
       "       [28.130932],\n",
       "       [17.789543],\n",
       "       [31.112661],\n",
       "       [33.27275 ],\n",
       "       [26.806353],\n",
       "       [21.132545],\n",
       "       [19.587183],\n",
       "       [15.299911],\n",
       "       [23.199821],\n",
       "       [26.935312],\n",
       "       [31.481222],\n",
       "       [16.881275],\n",
       "       [30.522049],\n",
       "       [13.832276],\n",
       "       [13.881042],\n",
       "       [21.633162],\n",
       "       [28.0693  ],\n",
       "       [21.487123],\n",
       "       [15.241683],\n",
       "       [27.51479 ],\n",
       "       [24.888712],\n",
       "       [25.193773],\n",
       "       [24.583698],\n",
       "       [32.102383],\n",
       "       [13.657546],\n",
       "       [24.827908],\n",
       "       [31.711771],\n",
       "       [24.548492],\n",
       "       [18.641325],\n",
       "       [24.45815 ],\n",
       "       [22.153526],\n",
       "       [19.699556],\n",
       "       [22.291754],\n",
       "       [25.042944],\n",
       "       [23.149755],\n",
       "       [21.515356],\n",
       "       [27.318628],\n",
       "       [27.045553],\n",
       "       [28.544987],\n",
       "       [32.078632],\n",
       "       [21.823305],\n",
       "       [31.519045],\n",
       "       [23.967735],\n",
       "       [24.056112],\n",
       "       [28.738607],\n",
       "       [27.505484],\n",
       "       [18.961994]], dtype=float32)"
      ]
     },
     "execution_count": 12,
     "metadata": {},
     "output_type": "execute_result"
    }
   ],
   "source": [
    "model.predict(x_test)"
   ]
  },
  {
   "cell_type": "code",
   "execution_count": 23,
   "id": "53023051",
   "metadata": {},
   "outputs": [
    {
     "data": {
      "text/plain": [
       "array([ 7.2, 18.8, 19. , 27. , 22.2, 24.5, 31.2, 22.9, 20.5, 23.2, 18.6,\n",
       "       14.5, 17.8, 50. , 20.8, 24.3, 24.2, 19.8, 19.1, 22.7, 12. , 10.2,\n",
       "       20. , 18.5, 20.9, 23. , 27.5, 30.1,  9.5, 22. , 21.2, 14.1, 33.1,\n",
       "       23.4, 20.1,  7.4, 15.4, 23.8, 20.1, 24.5, 33. , 28.4, 14.1, 46.7,\n",
       "       32.5, 29.6, 28.4, 19.8, 20.2, 25. , 35.4, 20.3,  9.7, 14.5, 34.9,\n",
       "       26.6,  7.2, 50. , 32.4, 21.6, 29.8, 13.1, 27.5, 21.2, 23.1, 21.9,\n",
       "       13. , 23.2,  8.1,  5.6, 21.7, 29.6, 19.6,  7. , 26.4, 18.9, 20.9,\n",
       "       28.1, 35.4, 10.2, 24.3, 43.1, 17.6, 15.4, 16.2, 27.1, 21.4, 21.5,\n",
       "       22.4, 25. , 16.6, 18.6, 22. , 42.8, 35.1, 21.5, 36. , 21.9, 24.1,\n",
       "       50. , 26.7, 25. ])"
      ]
     },
     "execution_count": 23,
     "metadata": {},
     "output_type": "execute_result"
    }
   ],
   "source": [
    "y_test"
   ]
  },
  {
   "cell_type": "markdown",
   "id": "09f94d58",
   "metadata": {},
   "source": [
    "### Evaluating model performance "
   ]
  },
  {
   "cell_type": "code",
   "execution_count": 24,
   "id": "7f96559f",
   "metadata": {},
   "outputs": [
    {
     "name": "stdout",
     "output_type": "stream",
     "text": [
      "\u001b[1m4/4\u001b[0m \u001b[32m━━━━━━━━━━━━━━━━━━━━\u001b[0m\u001b[37m\u001b[0m \u001b[1m0s\u001b[0m 2ms/step - loss: 37.8511 - mae: 4.2082 - mse: 37.8511 \n"
     ]
    },
    {
     "data": {
      "text/plain": [
       "[42.956390380859375, 4.543142318725586, 42.956390380859375]"
      ]
     },
     "execution_count": 24,
     "metadata": {},
     "output_type": "execute_result"
    }
   ],
   "source": [
    "model.evaluate(x_test, y_test)"
   ]
  }
 ],
 "metadata": {
  "kernelspec": {
   "display_name": "Python 3 (ipykernel)",
   "language": "python",
   "name": "python3"
  },
  "language_info": {
   "codemirror_mode": {
    "name": "ipython",
    "version": 3
   },
   "file_extension": ".py",
   "mimetype": "text/x-python",
   "name": "python",
   "nbconvert_exporter": "python",
   "pygments_lexer": "ipython3",
   "version": "3.11.0"
  }
 },
 "nbformat": 4,
 "nbformat_minor": 5
}
